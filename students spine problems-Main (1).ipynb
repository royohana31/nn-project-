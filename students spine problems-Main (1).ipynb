{
  "metadata": {
    "kernelspec": {
      "name": "python",
      "display_name": "Python (Pyodide)",
      "language": "python"
    },
    "language_info": {
      "codemirror_mode": {
        "name": "python",
        "version": 3
      },
      "file_extension": ".py",
      "mimetype": "text/x-python",
      "name": "python",
      "nbconvert_exporter": "python",
      "pygments_lexer": "ipython3",
      "version": "3.8"
    }
  },
  "nbformat_minor": 5,
  "nbformat": 4,
  "cells": [
    {
      "id": "b695b524",
      "cell_type": "markdown",
      "source": "__<font size=6.5><font color=brown>Low back pain among medical students in Bangladesh__",
      "metadata": {}
    },
    {
      "id": "a1cd8b3c",
      "cell_type": "markdown",
      "source": "<img src= \"https://github.com/royohana31/nn-project-/blob/main/Back_pain_image.png?raw=true\" width=\"300\"/>",
      "metadata": {}
    },
    {
      "id": "fc9f241c",
      "cell_type": "code",
      "source": "import pandas as pd\nimport numpy as np\nimport matplotlib.pyplot as plt\nimport seaborn as sns",
      "metadata": {
        "trusted": true
      },
      "outputs": [],
      "execution_count": null
    },
    {
      "id": "409c3e4b",
      "cell_type": "code",
      "source": "url=\"https://raw.githubusercontent.com/royohana31/nn-project-/main/Raw%20dataset%20(2).csv\"\nspine_df=pd.read_csv(url,on_bad_lines='skip')\nspine_df['LBP_12months']",
      "metadata": {
        "trusted": true
      },
      "outputs": [],
      "execution_count": null
    },
    {
      "id": "7c2782f5",
      "cell_type": "markdown",
      "source": "__lets fix it a bit__",
      "metadata": {}
    },
    {
      "id": "89f9bc3b",
      "cell_type": "code",
      "source": "spine_df=spine_df.drop(0)",
      "metadata": {
        "trusted": true
      },
      "outputs": [],
      "execution_count": null
    },
    {
      "id": "5bcb7447",
      "cell_type": "code",
      "source": "spine_df[\"Educational_level\"].unique()",
      "metadata": {
        "trusted": true
      },
      "outputs": [],
      "execution_count": null
    },
    {
      "id": "9e3e1121",
      "cell_type": "code",
      "source": "spine_df[\"Educational_level\"].replace({\"Final year\":\"last_year\",'4th year':\"last_year\",'Medical interns':\"intenrns\"},inplace=True)",
      "metadata": {
        "trusted": true
      },
      "outputs": [],
      "execution_count": null
    },
    {
      "id": "86144a94",
      "cell_type": "code",
      "source": "spine_df[\"Educational_level\"].value_counts()",
      "metadata": {
        "trusted": true
      },
      "outputs": [],
      "execution_count": null
    },
    {
      "id": "b866bdb0",
      "cell_type": "code",
      "source": "spine_df[\"Sitting_time\"].replace({'< 6 hours':\"less_than_6\",'? 6 hours':\"above_6\"},inplace=True)",
      "metadata": {
        "trusted": true
      },
      "outputs": [],
      "execution_count": null
    },
    {
      "id": "edc47879",
      "cell_type": "code",
      "source": "spine_df[\"Sitting_time\"].unique()",
      "metadata": {
        "trusted": true
      },
      "outputs": [],
      "execution_count": null
    },
    {
      "id": "8e811a0c",
      "cell_type": "code",
      "source": "spine_df.rename(columns={\"Height (m)\":\"Height\"},inplace=True)",
      "metadata": {
        "trusted": true
      },
      "outputs": [],
      "execution_count": null
    },
    {
      "id": "554fd36e",
      "cell_type": "code",
      "source": "spine_df[\"Educational_level\"].unique()",
      "metadata": {
        "trusted": true
      },
      "outputs": [],
      "execution_count": null
    },
    {
      "id": "853ad707",
      "cell_type": "code",
      "source": "",
      "metadata": {
        "trusted": true
      },
      "outputs": [],
      "execution_count": null
    },
    {
      "id": "d234fd57",
      "cell_type": "code",
      "source": "spine_df.drop(columns=[\"Age_group\",\"BMI\",])",
      "metadata": {
        "trusted": true
      },
      "outputs": [],
      "execution_count": null
    },
    {
      "id": "da74e753",
      "cell_type": "code",
      "source": "spine_df['LBP_first_time'].fillna(\"unreported\", inplace=True)\nspine_df['Duration_in_12_months'].fillna(\"unreported\", inplace=True)\nspine_df['LBP_episodes'].fillna(\"unreported\", inplace=True)\nspine_df['Causes'].fillna(\"unreported\", inplace=True)\nspine_df['Aggravating_factors'].fillna(\"unreported\", inplace=True)\nspine_df['Leg_pain'].fillna(\"unreported\", inplace=True)\nspine_df['Treatments'].fillna(\"unreported\", inplace=True)\nspine_df.isnull().sum()",
      "metadata": {
        "trusted": true
      },
      "outputs": [],
      "execution_count": null
    },
    {
      "id": "ba25986f",
      "cell_type": "code",
      "source": "spine_df.dtypes",
      "metadata": {
        "trusted": true
      },
      "outputs": [],
      "execution_count": null
    },
    {
      "id": "166feb49",
      "cell_type": "markdown",
      "source": "dummies for correlation check",
      "metadata": {}
    },
    {
      "id": "ad4f3f59",
      "cell_type": "code",
      "source": "dummies=pd.get_dummies(spine_df,columns=[\"LBP_12months\",'BMI_Range','Educational_level','Physical_activity_Frequency','Gender','Rest_time','Most_activity','Leg_pain','Currently_LBP','Duration_in_12_months','Chair_type','Adjustable_sitting','LBP_episodes','Sitting_time','Smoking_habit','Do_exercise','Aggravating_factors','LBP_first_time'])\ndummies.columns",
      "metadata": {
        "trusted": true
      },
      "outputs": [],
      "execution_count": null
    },
    {
      "id": "2ecd2b7a",
      "cell_type": "markdown",
      "source": "תחילת מסקנה א-קשר בין מאפיינים גנטיים וביולוגיים וממשיים לכאב",
      "metadata": {}
    },
    {
      "id": "801d0421",
      "cell_type": "markdown",
      "source": "<font size=6 color = darkblue>__conclusion 1: The connection between genetics and biology on LBP among the students__",
      "metadata": {}
    },
    {
      "id": "28bff036-e268-4976-8ffe-e1072be23fc0",
      "cell_type": "markdown",
      "source": "<img src= \"https://github.com/royohana31/nn-project-/blob/main/sangharsh-lohakare-Iy7QyzOs1bo-unsplash.jpg?raw=true\" width=\"300\"/>",
      "metadata": {}
    },
    {
      "id": "d0f96f16",
      "cell_type": "code",
      "source": "selected=dummies[['LBP_12months_No','LBP_12months_Yes',\n       'BMI_Range_1',\"Height\", 'BMI_Range_2', 'Gender_Female', 'Gender_Male']]\ncorr_matrix=selected.corr(method=\"kendall\")\nplt.figure(figsize=(5,5))\nsns.heatmap(corr_matrix, cmap='coolwarm', center=0, annot = True)\n",
      "metadata": {
        "trusted": true
      },
      "outputs": [],
      "execution_count": null
    },
    {
      "id": "ae1a9b85",
      "cell_type": "markdown",
      "source": "<font size=3>we can understand there is a connenction about being a female and have LBP and about BMI of group 2 and suffer from LBP,lets check it",
      "metadata": {}
    },
    {
      "id": "c2a156b9",
      "cell_type": "markdown",
      "source": "<set style>__Gender and LBP__",
      "metadata": {}
    },
    {
      "id": "d69c19ee",
      "cell_type": "code",
      "source": "spine_df[\"Gender\"].value_counts()",
      "metadata": {
        "trusted": true
      },
      "outputs": [],
      "execution_count": null
    },
    {
      "id": "6ff99863",
      "cell_type": "code",
      "source": "spine_df.groupby([\"Gender\"])['LBP_12months'].value_counts().reset_index()",
      "metadata": {
        "trusted": true
      },
      "outputs": [],
      "execution_count": null
    },
    {
      "id": "718a971b",
      "cell_type": "markdown",
      "source": "connection between gender and LBP",
      "metadata": {}
    },
    {
      "id": "726fbc03",
      "cell_type": "code",
      "source": "spine_df['LBP_12monthsbool'] = spine_df['LBP_12months'].map({'Yes': 1, 'No':0 })\nspine_df['LBP_12monthsbool']\n\n",
      "metadata": {
        "trusted": true
      },
      "outputs": [],
      "execution_count": null
    },
    {
      "id": "90032f0d-62ba-4a12-a7ae-a5d0e5db5aa5",
      "cell_type": "code",
      "source": "fig, ax = plt.subplots(1,3,figsize=(12, 4))\nsns.countplot(data=spine_df,x='LBP_12months',ax=ax[1])\nax[1].set_title(\"result of LBP last 12 month\")\nsns.countplot(data=spine_df,x=\"Gender\",ax=ax[0])\nax[0].set_title(\"total mans or females\")\ncounts = spine_df.groupby(\"Gender\")['LBP_12months'].value_counts().reset_index()\nsns.barplot(data=spine_df, x=\"Gender\", y=\"LBP_12monthsbool\",ax=ax[2],ci=None)\nax[2].set_title(\"mans and females seperate LBP graph\")\nfig.suptitle('Compransion graphs by gender',size=16)\nplt.subplots_adjust(top=0.75)\n\n\n\n",
      "metadata": {
        "trusted": true
      },
      "outputs": [],
      "execution_count": null
    },
    {
      "id": "b1ee6cb4",
      "cell_type": "code",
      "source": "spine_df.groupby('Gender')[\"LBP_12months\"].value_counts()",
      "metadata": {
        "trusted": true
      },
      "outputs": [],
      "execution_count": null
    },
    {
      "id": "3c8d67f3",
      "cell_type": "markdown",
      "source": "<font size=3 color=green>__sub conclusion: more females suffer relatively from LBP among the students.__",
      "metadata": {}
    },
    {
      "id": "bd6af49b",
      "cell_type": "markdown",
      "source": "\n<font size=5>__height and spine pain__",
      "metadata": {}
    },
    {
      "id": "c59bb865-3ec9-4232-b9b0-b3ad53e3eb7d",
      "cell_type": "markdown",
      "source": "<img src= \"https://github.com/royohana31/nn-project-/blob/main/1415872640418_wps_8_Chandra_Bahadur_Dandi_the_g.png?raw=true\" width=\"300\"/>",
      "metadata": {}
    },
    {
      "id": "b0f9fb14",
      "cell_type": "code",
      "source": "females=spine_df[spine_df[\"Gender\"]==\"Female\"]\nmales=spine_df[spine_df[\"Gender\"]==\"Male\"]\nfig, ax = plt.subplots(1,2,figsize=(6, 4))\nsns.boxplot(data=males,x='Gender',y=\"Height\",ax=ax[1])\nsns.boxplot(data=females,x='Gender',y=\"Height\",ax=ax[0])\nax[0].set_title('Height Distribution for Females')\nax[1].set_title('Height Distribution for Males')\nplt.subplots_adjust(wspace=1)\nfig.suptitle('Height stat by gender',size=16)\nplt.subplots_adjust(top=0.8)\nax[0].set_ylim(1.50, None)\nax[1].set_ylim(1.50, None)\n\n\n\n",
      "metadata": {
        "trusted": true
      },
      "outputs": [],
      "execution_count": null
    },
    {
      "id": "51542ac3",
      "cell_type": "code",
      "source": "filteredmales = males[males.groupby('Height')['Height'].transform('count') > 3]\nfilteredmales[\"Height\"].value_counts()\n\n",
      "metadata": {
        "trusted": true
      },
      "outputs": [],
      "execution_count": null
    },
    {
      "id": "eda5dd83",
      "cell_type": "code",
      "source": "filteredfemales = females[females.groupby('Height')['Height'].transform('count') > 3]\nfilteredfemales[\"Height\"].value_counts()",
      "metadata": {
        "trusted": true
      },
      "outputs": [],
      "execution_count": null
    },
    {
      "id": "e9cb19a8",
      "cell_type": "code",
      "source": "\nfig, ax = plt.subplots(2,2,figsize=(10, 8))\nsns.countplot(data=females,x='Height',ax=ax[0,0])\nsns.countplot(data=males,x='Height',ax=ax[1,0])\nmales=males[males['Height']>=1.5]\nfemales=females[females['Height']>=1.45]\nsns.barplot(data=females,x=\"Height\",y='LBP_12monthsbool',ax=ax[0,1],ci=None,)\nsns.barplot(data=males,x=\"Height\",y='LBP_12monthsbool',ax=ax[1,1],ci=None,)\nax[1,1].tick_params(axis='x', rotation=90)\nax[1,0].tick_params(axis='x', rotation=90)\nax[0,0].tick_params(axis='x', rotation=90)\nax[0,1].tick_params(axis='x', rotation=90)\nax[0,0].set_title(\"counts of females students by height\")\nax[0,1].set_title(\"students with LBP among the females students by probability\")\nax[1,0].set_title(\"counts of males students by height\")\nax[1,1].set_title(\"students with LBP among the males students by probability\")\nax[0,1].set_ylabel(\"probability\")\nax[1,1].set_ylabel(\"probability\")\n\n\nplt.subplots_adjust(wspace=0.7, hspace=0.7)  # Adjust the spacing between subplots\n\nplt.tight_layout()\n\n\n\n\n\n\n\n",
      "metadata": {
        "trusted": true
      },
      "outputs": [],
      "execution_count": null
    },
    {
      "id": "b5185fba",
      "cell_type": "code",
      "source": "fig, ax = plt.subplots(2,2,figsize=(10, 8))\nsns.countplot(data=filteredfemales,x='Height',ax=ax[0,0])\nsns.lineplot(data=filteredfemales, x=\"Height\", y='LBP_12monthsbool', ax=ax[0, 1])\nsns.countplot(data=filteredmales,x='Height',ax=ax[1,0])\nsns.lineplot(data=filteredmales, x=\"Height\", y='LBP_12monthsbool', ax=ax[1, 1])\n",
      "metadata": {
        "trusted": true
      },
      "outputs": [],
      "execution_count": null
    },
    {
      "id": "471ffb98",
      "cell_type": "markdown",
      "source": "<font size=4,font color=blue> Height have no effect on the probability to have LBP",
      "metadata": {}
    },
    {
      "id": "f6090d8f",
      "cell_type": "markdown",
      "source": "<font size=5>BMI \"range\" \"and\" spine pain  ",
      "metadata": {}
    },
    {
      "id": "3ba03852",
      "cell_type": "code",
      "source": "\nFBMI1=spine_df[(spine_df['Gender']==\"Female\")&(spine_df['BMI_Range']=='1')]\nsize1=FBMI1['LBP_12months'].value_counts()\nFBMI2=spine_df[(spine_df['Gender']==\"Female\")&(spine_df['BMI_Range']=='2')]\nsize2=FBMI2['LBP_12months'].value_counts()\nfig, ax = plt.subplots(1,2,figsize=(8, 4))\nax[0].pie(size1, labels=[\"HAVELBP\",'DonthaveLBP'],autopct='%1.1f%%',colors=[\"red\",\"#66B2FF\"],startangle=65)\nax[0].set_title(\"BMI_GROUP1\")\nax[1].pie(size2, labels=[\"HAVELBP\",'DonthaveLBP'], autopct='%1.1f%%',colors=['red', '#66B2FF'],startangle=20)\nax[1].set_title(\"BMI_GROUP2\")\nfig.suptitle('Females LBP by BMI_GROUP', fontsize=16)\nplt.subplots_adjust(wspace=1)",
      "metadata": {
        "trusted": true
      },
      "outputs": [],
      "execution_count": null
    },
    {
      "id": "db6fab79",
      "cell_type": "code",
      "source": "MBMI1=spine_df[(spine_df['Gender']==\"Male\")&(spine_df['BMI_Range']=='1')]\nsize3=MBMI1['LBP_12months'].value_counts()\nMBMI2=spine_df[(spine_df['Gender']==\"Male\")&(spine_df['BMI_Range']=='2')]\nsize4=MBMI2['LBP_12months'].value_counts()\nfig, ax = plt.subplots(1,2,figsize=(8, 4))\nfig.suptitle('Males LBP by BMI_GROUP', fontsize=16)\nax[0].pie(size3, labels=[\"HAVELBP\",'DonthaveLBP'], autopct='%1.1f%%',colors=[\"red\",'#66B2FF'],startangle=85)\nax[1].pie(size4, labels=[\"HAVELBP\",'DonthaveLBP'], autopct='%1.1f%%',colors=[\"red\",'#66B2FF'],startangle=75)\nax[0].set_title(\"BMI_GROUP1\")\nax[1].set_title(\"BMI_GROUP2\")\nplt.tight_layout()\nplt.subplots_adjust(wspace=1)\n\n",
      "metadata": {
        "trusted": true
      },
      "outputs": [],
      "execution_count": null
    },
    {
      "id": "be88f6b5",
      "cell_type": "markdown",
      "source": "<font size=3 color = green >sub-conclusion: The\"BMI_Range\" has a big impact on Females students and normal impact among the Males students",
      "metadata": {}
    },
    {
      "id": "970a4591",
      "cell_type": "markdown",
      "source": "<font size=4,font color=blue> main conclusion1 :Females are more likely to suffer from LBP among the students,height has no effect on LBP but BMI group has enormous impact on the probability",
      "metadata": {}
    },
    {
      "id": "638e713d",
      "cell_type": "markdown",
      "source": " <font size=6 color = darkblue>__Conclusion 2: Does lifestyle effect the students LBP ?__",
      "metadata": {}
    },
    {
      "id": "6f6e4c70-d203-4f3f-8485-6e931ba98df5",
      "cell_type": "markdown",
      "source": "<img src= \"https://github.com/royohana31/nn-project-/blob/main/%D7%94%D7%95%D7%A8%D7%93%D7%94.jpg?raw=true\" width=\"400\"/>",
      "metadata": {}
    },
    {
      "id": "3c289286",
      "cell_type": "code",
      "source": "spine_df.groupby('Adjustable_back')[\"LBP_12months\"].value_counts()",
      "metadata": {
        "trusted": true
      },
      "outputs": [],
      "execution_count": null
    },
    {
      "id": "d1d29f23",
      "cell_type": "code",
      "source": "spine_df[\"perfect_chair\"] = (\n    (spine_df[\"Chair_type\"] == \"Have back support\") &\n    (spine_df[\"Adjustable_back\"] == \"Yes\") &\n    (spine_df[\"Adjustable_sitting\"] == \"Yes\")\n).apply(lambda x: \"yes\" if x else \"no\")\n\nspine_df[\"semi_perfect\"] = (((spine_df[\"Chair_type\"] == \"Have back support\") & \n     (spine_df[\"Adjustable_back\"] == \"Yes\") & \n     (spine_df[\"Adjustable_sitting\"] == \"No\")) |\n    ((spine_df[\"Chair_type\"] == \"No back support\") & \n     (spine_df[\"Adjustable_back\"] == \"Yes\") & \n     (spine_df[\"Adjustable_sitting\"] == \"Yes\")) |\n    ((spine_df[\"Chair_type\"] == \"Have back support\") & \n     (spine_df[\"Adjustable_back\"] == \"No\") & \n     (spine_df[\"Adjustable_sitting\"] == \"Yes\"))\n).apply(lambda x: \"yes\" if x else \"no\")\nspine_df[\"semi_perfect\"].value_counts()\nspine_df.groupby('semi_perfect')[\"LBP_12months\"].value_counts()\n\n",
      "metadata": {
        "trusted": true
      },
      "outputs": [],
      "execution_count": null
    },
    {
      "id": "0813e2b7",
      "cell_type": "code",
      "source": "newdummi=pd.get_dummies(spine_df,columns=[\"perfect_chair\",'semi_perfect',\"LBP_12months\"])\nnewdummi.columns\ninterest=['LBP_12months_No', 'LBP_12months_Yes','perfect_chair_no',\n       'perfect_chair_yes', 'semi_perfect_no', 'semi_perfect_yes',]\nmatrix=newdummi[interest].corr()\nfig, ax = plt.subplots(figsize=(4, 4))\nfig.suptitle('LBP and chair type correlation', fontsize=16)\n\nsns.heatmap(matrix, cmap='coolwarm', center=0, annot = True)",
      "metadata": {
        "trusted": true
      },
      "outputs": [],
      "execution_count": null
    },
    {
      "id": "8e3f520b",
      "cell_type": "code",
      "source": "fig, ax = plt.subplots(figsize=(5, 4))\nsns.barplot(data=spine_df,x='semi_perfect',y=\"LBP_12monthsbool\",ci=None)\nax.set_xticklabels(['Not Semi-Perfect', 'Semi-Perfect'])\nax.set_ylabel(\"probability\")\nax.set_title(\"Semi-perfect chair and LBP\")\n\n\nplt.tight_layout()\n",
      "metadata": {
        "trusted": true
      },
      "outputs": [],
      "execution_count": null
    },
    {
      "id": "82f6bdf4",
      "cell_type": "code",
      "source": "spine_df[\"perfect_chair\"].value_counts()",
      "metadata": {
        "trusted": true
      },
      "outputs": [],
      "execution_count": null
    },
    {
      "id": "4458a078",
      "cell_type": "code",
      "source": "spine_df[\"perfect_chair\"] = (\n    (spine_df[\"Chair_type\"] == \"Have back support\") &\n    (spine_df[\"Adjustable_back\"] == \"Yes\") &\n    (spine_df[\"Adjustable_sitting\"] == \"Yes\")\n).apply(lambda x: \"yes\" if x else \"no\")\n\ncounts1=spine_df[spine_df[\"perfect_chair\"]=='yes'].groupby(\"perfect_chair\")[\"LBP_12months\"].value_counts().reset_index()\ncounts2=spine_df[spine_df[\"perfect_chair\"]=='no'].groupby(\"perfect_chair\")[\"LBP_12months\"].value_counts().reset_index()\ncounts1\ncounts1\nfig, ax = plt.subplots(1,2,figsize=(8, 4))\nfig.suptitle('Analysis of LBP_12months by Chair Type', fontsize=16)\nax[1].pie(counts1[\"count\"], labels=counts1[\"LBP_12months\"].unique(), autopct='%1.1f%%',colors=[\"blue\",\"lightblue\"],startangle=200 )\nax[1].set_title(\"students with perfect chair\")\nax[0].pie(counts2[\"count\"], labels=counts2[\"LBP_12months\"].unique(), autopct='%1.1f%%',colors=[\"lightblue\",\"blue\"] ,)\nax[0].set_title(\"students without perfect chair\")\nplt.tight_layout()\nplt.subplots_adjust(top=0.8)  # Adjust the top margin to make space for the main title\n\n\n\n",
      "metadata": {
        "trusted": true
      },
      "outputs": [],
      "execution_count": null
    },
    {
      "id": "d25a9d58",
      "cell_type": "code",
      "source": "filtered=spine_df[(spine_df['semi_perfect']==\"no\")&(spine_df['perfect_chair']=='no')]\nfiltered2=spine_df[(spine_df['semi_perfect']==\"yes\")&(spine_df['perfect_chair']=='no')]\nfiltered3=spine_df[(spine_df['semi_perfect']=='no')&(spine_df['perfect_chair']=='yes')]\nfiltered3.shape\nfig, ax = plt.subplots(1,2,figsize=(8, 4))\nsns.histplot(data=filtered,x='LBP_12months',stat=\"probability\",ax=ax[0])\nsns.barplot(data=spine_df,x='perfect_chair',y='LBP_12monthsbool',hue='semi_perfect',ax=ax[1],ci=None)\nax[1].set_xticklabels(['No Perfect Chair', 'Perfect Chair only'])\nfig.suptitle('Comparison of LBP by Chair Type', fontsize=16)\n",
      "metadata": {
        "trusted": true
      },
      "outputs": [],
      "execution_count": null
    },
    {
      "id": "c431e898",
      "cell_type": "markdown",
      "source": "<font size=3 color = green> sub-conclusion: we can understand that comfort chair decrease the chances to suffer\n",
      "metadata": {}
    },
    {
      "id": "e1733cca",
      "cell_type": "code",
      "source": "conditions = [\n    (spine_df[\"Do_exercise\"] == '>7 times a week') & (spine_df['Physical_activity_Frequency'] == \"High\"),\n    (spine_df[\"Do_exercise\"] == '5 - 7 times a week') & (spine_df['Physical_activity_Frequency'] == \"High\"),\n    (spine_df[\"Do_exercise\"] == '2 - 4 times a week') & (spine_df['Physical_activity_Frequency'] == \"Moderate\"),\n    (spine_df[\"Do_exercise\"] == 'Never') & (spine_df['Physical_activity_Frequency'] == \"Low\"),\n    (spine_df[\"Do_exercise\"] == 'Once a week') & (spine_df['Physical_activity_Frequency'] == \"Moderate\"),\n    ((spine_df[\"Do_exercise\"] == 'Never')|(spine_df[\"Do_exercise\"] == 'Rarely')) & (spine_df['Physical_activity_Frequency'] == \"Low\")\n]\nchoices=['extremely_active','very_active','active','inactive','moderately_active','inactive']\nspine_df[\"activness_level\"] = np.select(conditions, choices,default=\"Unknown\")\n\n",
      "metadata": {
        "trusted": true
      },
      "outputs": [],
      "execution_count": null
    },
    {
      "id": "7bc03187",
      "cell_type": "code",
      "source": "spine_df[spine_df[\"Do_exercise\"]==\"Rarely\"].count()",
      "metadata": {
        "trusted": true
      },
      "outputs": [],
      "execution_count": null
    },
    {
      "id": "187fd955",
      "cell_type": "code",
      "source": " spine_df[pd.isnull(spine_df['activness_level'])]['Do_exercise'].unique()\n",
      "metadata": {
        "trusted": true
      },
      "outputs": [],
      "execution_count": null
    },
    {
      "id": "2448589f",
      "cell_type": "code",
      "source": "spine_df.groupby('activness_level')['LBP_12months'].count()",
      "metadata": {
        "trusted": true
      },
      "outputs": [],
      "execution_count": null
    },
    {
      "id": "46e379ec",
      "cell_type": "code",
      "source": "newdummi=pd.get_dummies(spine_df,columns=[\"activness_level\",\"LBP_12months\"])\nnewdummi.columns\ninterest=['LBP_12months_No', 'LBP_12months_Yes','activness_level_inactive',\n       'activness_level_moderately_active', 'activness_level_active',\n       'activness_level_very_active','activness_level_extremely_active']\nmatrix=newdummi[interest].corr()\nfig, ax = plt.subplots(figsize=(5, 4))\nfig.suptitle('LBP and active level correlation', fontsize=16)\n\nsns.heatmap(matrix, cmap='coolwarm', center=0, annot = True)",
      "metadata": {
        "trusted": true
      },
      "outputs": [],
      "execution_count": null
    },
    {
      "id": "d1674e41",
      "cell_type": "code",
      "source": "spine_df.groupby('activness_level')['LBP_12months'].value_counts()",
      "metadata": {
        "trusted": true
      },
      "outputs": [],
      "execution_count": null
    },
    {
      "id": "a8c3a4f3",
      "cell_type": "code",
      "source": "fig, ax = plt.subplots(figsize=(7, 4))\nfig.suptitle('LBP AND activism counts', fontsize=16)\n\nsns.countplot(data=spine_df,x='activness_level')",
      "metadata": {
        "trusted": true
      },
      "outputs": [],
      "execution_count": null
    },
    {
      "id": "0daf7555",
      "cell_type": "code",
      "source": "spine_df['activness_level']\norder1=['inactive','moderately_active','active','very_active','extremely_active']\nspine_df['activness_level'].value_counts()\nspine_df['activness_level'] = pd.Categorical(spine_df['activness_level'], categories=order1, ordered=True)\nfig, ax = plt.subplots(figsize=(7, 4))\nfig.suptitle('LBP AND activism by probability', fontsize=16)\nsns.barplot(data=spine_df, x='activness_level', y='LBP_12monthsbool',ci=None)\nplt.xticks( rotation=90)  \nplt.tight_layout()\nplt.show()\nplt.figure(figsize=(15, 5))\n\n",
      "metadata": {
        "trusted": true
      },
      "outputs": [],
      "execution_count": null
    },
    {
      "id": "f9d15c83",
      "cell_type": "markdown",
      "source": "<font size=3>__from the heatmap and the histogram we understand that students who are more above active apperantly decrease the chances to suffer from LBP__",
      "metadata": {}
    },
    {
      "id": "2471529b",
      "cell_type": "markdown",
      "source": "<font size=5>__Smoking and LBP__",
      "metadata": {}
    },
    {
      "id": "a3b2e0be-8491-4668-bb17-5078fbd7bdb0",
      "cell_type": "markdown",
      "source": "<img src= \"https://github.com/royohana31/nn-project-/blob/main/18_lm.jpg?raw=true\" width=\"400\"/>",
      "metadata": {}
    },
    {
      "id": "1e33abb6",
      "cell_type": "code",
      "source": "spine_df.groupby(\"Smoking_habit\")['LBP_12months'].value_counts()",
      "metadata": {
        "trusted": true
      },
      "outputs": [],
      "execution_count": null
    },
    {
      "id": "b0d88acd",
      "cell_type": "code",
      "source": "fig, ax = plt.subplots(figsize=(8, 4))\nsmoking_lbp = spine_df.groupby('Smoking_habit')['LBP_12monthsbool'].mean().reset_index()\nsmoking_lbp\n# fig, ax = plt.subplots(figsize=(8, 4))\n\n# Create the bar plot\nsns.barplot(data=smoking_lbp, x='Smoking_habit', y='LBP_12monthsbool', ax=ax)\nfig.suptitle('LBP and smoking connection ' , fontsize=16)\n\n",
      "metadata": {
        "trusted": true
      },
      "outputs": [],
      "execution_count": null
    },
    {
      "id": "9595df4c",
      "cell_type": "code",
      "source": "sns.countplot(data=spine_df,x='Smoking_habit')",
      "metadata": {
        "trusted": true
      },
      "outputs": [],
      "execution_count": null
    },
    {
      "id": "c6c45bdb",
      "cell_type": "markdown",
      "source": "<font size=3 color = green> sub conclusion: we saw that the percenteges of smokers are higher than the other group but,because the unsmoker group is much bigger we cannot assume that smoking increase chances for LBP among students",
      "metadata": {}
    },
    {
      "id": "47375355",
      "cell_type": "markdown",
      "source": "<font size=5>__Variety of students Treatments and the effection on LBP__",
      "metadata": {}
    },
    {
      "id": "619e0ec4",
      "cell_type": "code",
      "source": "spine_df['Treatments'].value_counts().reset_index()",
      "metadata": {
        "trusted": true
      },
      "outputs": [],
      "execution_count": null
    },
    {
      "id": "accc85f8",
      "cell_type": "code",
      "source": "filtered = spine_df[~spine_df['Treatments'].isin([\"unreported\", 'Opioid+injection', 'Steroid injections'])]\nfiltered.groupby('Treatments')['LBP_12monthsbool'].mean().reset_index()\nfig, ax = plt.subplots(figsize=(8, 4))\nsns.barplot(data=filtered,x='Treatments',y='LBP_12monthsbool',ci=None)\nax.set_ylabel('Percentage of LBP in the last 12 months')\n\n\n",
      "metadata": {
        "trusted": true
      },
      "outputs": [],
      "execution_count": null
    },
    {
      "id": "fb6aaf22",
      "cell_type": "markdown",
      "source": "<font size=4>how does it make sense that all group are with high percentages of LBP",
      "metadata": {}
    },
    {
      "id": "1d95be3a",
      "cell_type": "code",
      "source": "spine_df.groupby('Treatments')['LBP_12months'].value_counts()\n",
      "metadata": {
        "trusted": true
      },
      "outputs": [],
      "execution_count": null
    },
    {
      "id": "8c67d50d",
      "cell_type": "code",
      "source": "filtered = spine_df[~spine_df['Treatments'].isin(['Opioid+injection', 'Steroid injections'])]\nfiltered.groupby('Treatments')['LBP_12monthsbool'].mean().reset_index()\nfig, ax = plt.subplots(figsize=(8, 4))\nsns.barplot(data=filtered,x='Treatments',y='LBP_12monthsbool',ci=None)\nax.set_ylabel('Percentage of LBP in the last 12 months')\n\n\n",
      "metadata": {
        "trusted": true
      },
      "outputs": [],
      "execution_count": null
    },
    {
      "id": "b2a5c9d9",
      "cell_type": "markdown",
      "source": "<font size=4>__from the graph we can see that there isnt affection for The variety of treatments on deacrising the LBP__\n",
      "metadata": {}
    },
    {
      "id": "67a0fe0e",
      "cell_type": "markdown",
      "source": "<font size=5>__does there is a reason that treatments or no treatments are suffer relatively high from LBP?__",
      "metadata": {}
    },
    {
      "id": "3816d39e",
      "cell_type": "code",
      "source": "filtered = spine_df[~spine_df['Treatments'].isin( ['unreported','Opioid+injection', 'Steroid injections'])]\ng = sns.FacetGrid(filtered, col='Treatments')\ng.map_dataframe(sns.histplot, x='activness_level', multiple=\"stack\", stat='probability')\ng.fig.suptitle('Distribution by treatment and activ`e level', fontsize=16)\nplt.subplots_adjust(top=0.8)  \ng.set_axis_labels(\"\")\ng.set_xticklabels(rotation=90)",
      "metadata": {
        "trusted": true
      },
      "outputs": [],
      "execution_count": null
    },
    {
      "id": "bfea7969",
      "cell_type": "markdown",
      "source": "<font size=3 color = green> __sub-conclusion:itis possibole that the treatments arent affective but also most of the students arent actives,about the untreatment grouo they are just lazy__\n\n<font size=3 color = green>we will continue to check it:)",
      "metadata": {}
    },
    {
      "id": "4cc0a33e",
      "cell_type": "markdown",
      "source": "<font size=4>__does seating effect LBP__?",
      "metadata": {}
    },
    {
      "id": "fdbf67dd",
      "cell_type": "code",
      "source": "spine_df.columns",
      "metadata": {
        "trusted": true
      },
      "outputs": [],
      "execution_count": null
    },
    {
      "id": "8327cbb4",
      "cell_type": "code",
      "source": "newdummi2=pd.get_dummies(spine_df,columns=['Sitting_time',\"LBP_12months\"])\nnewdummi2.columns\ninterest2=['LBP_12months_No','LBP_12months_Yes','Sitting_time_above_6','Sitting_time_less_than_6']\nmatrix2=newdummi2[interest2].corr()\nfig, ax = plt.subplots(figsize=(3, 3))\nfig.suptitle('seating and LBP corr', fontsize=14)\nsns.heatmap(matrix2, cmap='coolwarm', center=0, annot = True)\n",
      "metadata": {
        "trusted": true
      },
      "outputs": [],
      "execution_count": null
    },
    {
      "id": "889d41b1",
      "cell_type": "code",
      "source": "spine_df.columns",
      "metadata": {
        "trusted": true
      },
      "outputs": [],
      "execution_count": null
    },
    {
      "id": "a812f27c",
      "cell_type": "code",
      "source": "fig, ax = plt.subplots(figsize=(6, 4))\nsns.barplot(data=spine_df,x='Sitting_time',y='LBP_12monthsbool',ci=None)\nax.set_title(\"distributtion of siiting time and LBP\")",
      "metadata": {
        "trusted": true
      },
      "outputs": [],
      "execution_count": null
    },
    {
      "id": "61f00cf8",
      "cell_type": "markdown",
      "source": "<font size=5>__we can see direct connection between seating time and LBP__",
      "metadata": {}
    },
    {
      "id": "a61cbd4e",
      "cell_type": "code",
      "source": "g = sns.FacetGrid(filtered, col='Treatments')\ng.map_dataframe(sns.histplot, x='Sitting_time', multiple=\"stack\", stat='probability')\ng.fig.suptitle('Distribution by treatment and seating time', fontsize=16)\nplt.subplots_adjust(top=0.8)  \ng.set_axis_labels(\"\")\ng.set_xticklabels(rotation=90)",
      "metadata": {
        "trusted": true
      },
      "outputs": [],
      "execution_count": null
    },
    {
      "id": "de2a59f5",
      "cell_type": "code",
      "source": "g = sns.FacetGrid(filtered, col='Treatments')\ng.map_dataframe(sns.histplot, x='perfect_chair', multiple=\"stack\", stat='probability',)\ng.fig.suptitle('Distribution by treatment and chair', fontsize=16)\nplt.subplots_adjust(top=0.8)  \ng.set_axis_labels(\"\")\ng.set_xticklabels(rotation=90)",
      "metadata": {
        "trusted": true
      },
      "outputs": [],
      "execution_count": null
    },
    {
      "id": "19ccfd3f",
      "cell_type": "markdown",
      "source": "<font size=5>__we understand that the student with specifi treatment are also 'luck' of life style,most of them are lazy,seat more than 6 hours a day and dont seat on perfect chairs,this can explain why most of them suffer from LBP__\n\n<img src= \"https://github.com/royohana31/nn-project-/blob/main/1706810104769.jpg?raw=true\" width=\"400\"/>\n    ",
      "metadata": {}
    },
    {
      "id": "72f76044",
      "cell_type": "markdown",
      "source": "<FONT SIZE=4 color = blue>  Main Conclusion 2: Smoking isnt effect LBP among students,chair type seating time and active level gets big impact on the LBP chances",
      "metadata": {}
    },
    {
      "id": "c08d0419",
      "cell_type": "markdown",
      "source": "<font size=6,style color = darkblue>__Conclusion number 3:there is a connection between the students year and the chances to suffer from LBP__?\n    \n   \n    \n    ",
      "metadata": {}
    },
    {
      "id": "76e74e34-1c9c-46d5-a27d-e159c740feac",
      "cell_type": "markdown",
      "source": "<img src= \"https://github.com/royohana31/nn-project-/blob/main/pexels-pixabay-267885-1598782961.jpg?raw=true\" width=\"400\"/>",
      "metadata": {}
    },
    {
      "id": "eef79b90",
      "cell_type": "code",
      "source": "newdummi3=pd.get_dummies(spine_df,columns=['Educational_level',\"LBP_12months\"])\nnewdummi3.columns\ninterest2=['LBP_12months_No','LBP_12months_Yes','Educational_level_1st year', 'Educational_level_2nd year',\n       'Educational_level_3rd year','Educational_level_last_year']\nmatrix3=newdummi3[interest2].corr()\nfig, ax = plt.subplots(figsize=(5, 3))\nfig.suptitle('seating and LBP corr', fontsize=14)\n\nsns.heatmap(matrix3, cmap='coolwarm', center=0, annot = True)\n",
      "metadata": {
        "trusted": true
      },
      "outputs": [],
      "execution_count": null
    },
    {
      "id": "a6b51002",
      "cell_type": "code",
      "source": "styear1=spine_df[spine_df[\"Educational_level\"]==\"1st year\"].groupby(\"Educational_level\")[\"LBP_12months\"].value_counts().reset_index()\nstyear2=spine_df[spine_df[\"Educational_level\"]==\"2nd year\"].groupby(\"Educational_level\")[\"LBP_12months\"].value_counts().reset_index()\nstyear3=spine_df[spine_df[\"Educational_level\"]==\"3rd year\"].groupby(\"Educational_level\")[\"LBP_12months\"].value_counts().reset_index()\nstyearfinal=spine_df[spine_df[\"Educational_level\"]==\"last_year\"].groupby(\"Educational_level\")[\"LBP_12months\"].value_counts().reset_index()\n\nstyearfinal",
      "metadata": {
        "trusted": true
      },
      "outputs": [],
      "execution_count": null
    },
    {
      "id": "a6a5ba22",
      "cell_type": "code",
      "source": "fig, ax = plt.subplots(2,2,figsize=(12, 4))\nax[0,0].pie(styear1[\"count\"], labels=styear1[\"LBP_12months\"].values, autopct='%1.1f%%',colors=[\"lightblue\",\"red\"],startangle=80) \nax[0,0].set_title(\"1styear\")\nax[0,1].pie(styear2[\"count\"], labels=styear2[\"LBP_12months\"].values, autopct='%1.1f%%',colors=[\"red\",\"lightblue\"],startangle=40)  \nax[0,1].set_title(\"2nd year\")\nax[1,0].pie(styear3[\"count\"], labels=styear3[\"LBP_12months\"].values, autopct='%1.1f%%', colors=[\"red\",\"lightblue\"],startangle=53) \nax[1,0].set_title(\"3rd year\")\nax[1,1].pie(styearfinal[\"count\"], labels=styearfinal[\"LBP_12months\"].values, autopct='%1.1f%%',colors=[\"red\",\"lightblue\"],startangle=65)\nax[1,1].set_title(\"Final year\")\nfig.suptitle('distribution of students by year' , fontsize=16)\n\n\n\n\n",
      "metadata": {
        "trusted": true
      },
      "outputs": [],
      "execution_count": null
    },
    {
      "id": "df2f3e07",
      "cell_type": "markdown",
      "source": "<font size=3>__we can see that the first year students are less likely to suffer,lets check it by 5 categories that we have founded affectable:\"Perfect chair,seatingtime,activism,gender and we will check if they had some kind of treatments__.",
      "metadata": {}
    },
    {
      "id": "dfb53d30",
      "cell_type": "code",
      "source": "sns.countplot(data=spine_df,x='Educational_level')",
      "metadata": {
        "trusted": true
      },
      "outputs": [],
      "execution_count": null
    },
    {
      "id": "c7fb5bcc",
      "cell_type": "code",
      "source": "order=[\"1st year\",\"2nd year\",\"3rd year\",'last_year']\nspine_df['Educational_level'] = pd.Categorical(spine_df['Educational_level'], categories=order)\nfig, ax = plt.subplots(figsize=(6, 4))\nsns.countplot(data=spine_df,x='Educational_level',hue='perfect_chair')\n\n",
      "metadata": {
        "trusted": true
      },
      "outputs": [],
      "execution_count": null
    },
    {
      "id": "d64e40ea",
      "cell_type": "code",
      "source": "order=[\"1st year\",\"2nd year\",\"3rd year\",'last_year']\ng = sns.FacetGrid(spine_df, col='Educational_level',col_order=order)\ng.map_dataframe(sns.histplot, x='activness_level',multiple=\"stack\",stat=\"percent\")\ng.fig.suptitle('Distribution by year and active level', fontsize=16)\nplt.subplots_adjust(top=0.8)  \ng.set_xticklabels(rotation=90)\n",
      "metadata": {
        "trusted": true
      },
      "outputs": [],
      "execution_count": null
    },
    {
      "id": "84ca2bc0",
      "cell_type": "code",
      "source": "order=[\"1st year\",\"2nd year\",\"3rd year\",'last_year']\n\ng = sns.FacetGrid(spine_df, col='Educational_level',col_order=order)\ng.map_dataframe(sns.countplot, x=\"Gender\")\nplt.subplots_adjust(top=0.8)  \ng.fig.suptitle('Distribution by year and gender', fontsize=16)\n\ng.set_xticklabels(rotation=90)\n",
      "metadata": {
        "trusted": true
      },
      "outputs": [],
      "execution_count": null
    },
    {
      "id": "97fe5a75",
      "cell_type": "code",
      "source": "g = sns.FacetGrid(spine_df, col='Educational_level',col_order=order)\ng.map_dataframe(sns.histplot, x=\"Sitting_time\",stat=\"percent\")\ng.fig.suptitle('Distribution by year and seating time', fontsize=16)\nplt.subplots_adjust(top=0.8) \ng.set_xticklabels(rotation=90)",
      "metadata": {
        "trusted": true
      },
      "outputs": [],
      "execution_count": null
    },
    {
      "id": "07fc1f30",
      "cell_type": "code",
      "source": "order=[\"1st year\",\"2nd year\",\"3rd year\",'last_year']\ng = sns.FacetGrid(spine_df, col='Educational_level',col_order=order)\nfig.suptitle('distribution by treatment' , fontsize=16)\n\ng.map_dataframe(sns.histplot, x='Treatments',multiple=\"stack\",stat=\"percent\")\ng.set_xticklabels(rotation=90)\ng.fig.suptitle('Distribution by year and by Treatment', fontsize=16)\nplt.subplots_adjust(top=0.6)  \n\n",
      "metadata": {
        "trusted": true
      },
      "outputs": [],
      "execution_count": null
    },
    {
      "id": "d4308dca",
      "cell_type": "markdown",
      "source": "<font size=4,font color=blue>__main conclusion number 3: as we saw the first year students are the less likely to belong to the 'no treat,emt group',they are the most active compared to the others groups,60 % of them seats less then 6 hours a day and most of them are males which we have found that they are less likely to suffer, if we combined all the data toghether thats can explain why the first year students is the group with the least students who suffer from LBP__",
      "metadata": {}
    },
    {
      "id": "c9b801f6-ee9e-4b6a-8abe-080232cefbf2",
      "cell_type": "code",
      "source": "",
      "metadata": {
        "trusted": true
      },
      "outputs": [],
      "execution_count": null
    }
  ]
}